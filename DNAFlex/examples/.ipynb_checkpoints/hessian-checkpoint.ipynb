{
 "cells": [
  {
   "cell_type": "code",
   "execution_count": 5,
   "id": "ae9c8d4a",
   "metadata": {},
   "outputs": [
    {
     "ename": "NameError",
     "evalue": "name 'Ha' is not defined",
     "output_type": "error",
     "traceback": [
      "\u001b[0;31m---------------------------------------------------------------------------\u001b[0m",
      "\u001b[0;31mNameError\u001b[0m                                 Traceback (most recent call last)",
      "Cell \u001b[0;32mIn[5], line 23\u001b[0m\n\u001b[1;32m     20\u001b[0m \u001b[38;5;66;03m#Ha = hessian_autograd(theta)\u001b[39;00m\n\u001b[1;32m     21\u001b[0m Hb \u001b[38;5;241m=\u001b[39m hessian_analytical(theta,counts)\n\u001b[0;32m---> 23\u001b[0m \u001b[38;5;28mprint\u001b[39m(\u001b[38;5;241m-\u001b[39m\u001b[38;5;241m1\u001b[39m\u001b[38;5;241m*\u001b[39m\u001b[43mHa\u001b[49m)\n\u001b[1;32m     24\u001b[0m \u001b[38;5;28mprint\u001b[39m(Hb)\n",
      "\u001b[0;31mNameError\u001b[0m: name 'Ha' is not defined"
     ]
    }
   ],
   "source": [
    "from DNAFlex.psf import hessian_analytical\n",
    "from scipy.special import erf\n",
    "import numpy as np\n",
    "\n",
    "x0 = 5.0\n",
    "y0 = 5.0\n",
    "sigma = 1.0\n",
    "I0 = 1000.0\n",
    "theta0 = np.array([x0,y0,sigma])\n",
    "L = 10\n",
    "x = np.arange(0,L); y = np.arange(0,L)\n",
    "X, Y = np.meshgrid(x,y)\n",
    "alpha = np.sqrt(2)*sigma\n",
    "_lamdx = erf((X+0.5-x0)/alpha) - erf((X-0.5-x0)/alpha)\n",
    "_lamdy = erf((Y+0.5-y0)/alpha) - erf((Y-0.5-y0)/alpha)\n",
    "_lamd = I0*_lamdx*_lamdy\n",
    "counts = np.random.poisson(lam=_lamd)\n",
    "\n",
    "theta = np.array([4.0,4.0,1.0])\n",
    "#Ha = hessian_autograd(theta)\n",
    "Hb = hessian_analytical(theta,counts)\n",
    "print(Hb)"
   ]
  },
  {
   "cell_type": "code",
   "execution_count": null,
   "id": "57bbb3c3",
   "metadata": {},
   "outputs": [],
   "source": []
  },
  {
   "cell_type": "code",
   "execution_count": null,
   "id": "2541832d",
   "metadata": {},
   "outputs": [],
   "source": []
  }
 ],
 "metadata": {
  "kernelspec": {
   "display_name": "Python 3 (ipykernel)",
   "language": "python",
   "name": "python3"
  },
  "language_info": {
   "codemirror_mode": {
    "name": "ipython",
    "version": 3
   },
   "file_extension": ".py",
   "mimetype": "text/x-python",
   "name": "python",
   "nbconvert_exporter": "python",
   "pygments_lexer": "ipython3",
   "version": "3.10.6"
  }
 },
 "nbformat": 4,
 "nbformat_minor": 5
}
