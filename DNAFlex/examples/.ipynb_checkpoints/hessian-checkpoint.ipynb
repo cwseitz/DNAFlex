{
 "cells": [
  {
   "cell_type": "code",
   "execution_count": 1,
   "id": "128f801c",
   "metadata": {},
   "outputs": [],
   "source": [
    "from DNAFlex.psf import GaussianPSF, hessian_analytical\n",
    "from scipy.special import erf\n",
    "import numpy as np"
   ]
  },
  {
   "cell_type": "code",
   "execution_count": 4,
   "id": "09f4939f",
   "metadata": {
    "scrolled": true
   },
   "outputs": [
    {
     "name": "stdout",
     "output_type": "stream",
     "text": [
      "I0=500.0\n"
     ]
    },
    {
     "data": {
      "image/png": "[encoded data removed]",
      "text/plain": [
       "<Figure size 400x300 with 8 Axes>"
      ]
     },
     "metadata": {},
     "output_type": "display_data"
    }
   ],
   "source": [
    "L = 19\n",
    "omat = np.ones((L,L))\n",
    "gain0 = 2.2\n",
    "rmu0 = 100\n",
    "rvar0 = 700\n",
    "gain = gain0*omat #ADU/e-\n",
    "rmu = rmu0*omat #ADU\n",
    "rvar = rvar0*omat #ADU^2\n",
    "pixel_size = 108.3 #nm\n",
    "sigma = 0.22*640/1.4 #zhang 2007\n",
    "sigma = sigma = sigma/pixel_size\n",
    "lam0 = 1000 #cps\n",
    "texp = 1 #seconds\n",
    "eta = 0.5 #quantum efficiency\n",
    "I0 = eta*lam0*texp #expected number of photons during exposure time (assume lam0 is determined for now)\n",
    "x0,y0 = (10,10)\n",
    "\n",
    "print(f'I0={I0}')\n",
    "psf = GaussianPSF(x0,y0,L,I0,sigma,gain,rmu,rvar)\n",
    "adu = psf.generate(plot=True)"
   ]
  },
  {
   "cell_type": "code",
   "execution_count": 7,
   "id": "ae9c8d4a",
   "metadata": {},
   "outputs": [
    {
     "name": "stdout",
     "output_type": "stream",
     "text": [
      "[[ 58.  67.  61.  38.  45.  29.  54.  33.  49.  47.  50.  40.  46.  40.\n",
      "   24.  33.  41.  63.  71.]\n",
      " [ 51.  56.  40.  34.  51.  35.  41.  58.  48.  45.  48.  30.  45.  49.\n",
      "   40.  44.  43.  50.  58.]\n",
      " [ 55.  46.   8.  43.  62.  51.  30.  48.  63.  33.  37.  60.  43.  43.\n",
      "   59.  54.  70.  44.  68.]\n",
      " [ 44.  35.  34.  26.  31.  29.  51.  39.  70.  31.  40.  58.  50.  58.\n",
      "   37.  54.  32.  61.  33.]\n",
      " [ 23.  49.  45.  30.  41.  28.  61.  52.  48.  60.  37.  34.  27.  40.\n",
      "   44.  20.  60.  32.  30.]\n",
      " [ 45.  43.  60.  53.  61.  35.  57.  50.  47.  51.  24.  49.  30.  51.\n",
      "   53.  46.  53.  54.  69.]\n",
      " [ 43.  34.  42.  35.  35.  65.  44.  54.  35.  35.  37.  41.  55.  50.\n",
      "   40.  51.  26.  41.  46.]\n",
      " [ 37.  39.  46.  40.  48.  55.  36.  34.  44.  35.  33.  34.  16.  53.\n",
      "   39.  63.  62.  44.  70.]\n",
      " [ 58.  22.  50.  39.  55.  48.  41.  50.  55.  48.  28.  47.  33.  59.\n",
      "   21.  23.  40.  47.  54.]\n",
      " [ 38.  20.  54.  38.  42.  60.  45.  27.  66.  57.  89.  78.  69.  50.\n",
      "   38.  46.  38.  53.  40.]\n",
      " [ 54.  37.  44.  55.  57.  55.  63.  35.  57. 114. 126.  94.  55.  48.\n",
      "   38.  35.  40.  50.  34.]\n",
      " [ 38.  48.  36.  34.  26.  50.  71.  24.  52.  60. 104.  81.  53.  46.\n",
      "   64.  55.  60.  47.  43.]\n",
      " [ 30.  41.  47.  56.  37.  52.  32.  36.  53.  41.  44.  65.  71.  30.\n",
      "   43.  41.  43.  27.  46.]\n",
      " [ 32.  57.  25.  38.  34.  50.  73.  41.  63.  33.  42.  50.  40.  21.\n",
      "   42.  57.  33.  66.  50.]\n",
      " [ 37.  45.  48.  30.  44.  45.  58.  18.  37.  37.  52.  55.  40.  48.\n",
      "   45.  39.  23.  37.  52.]\n",
      " [ 51.  43.  18.  60.  48.  34.  37.  38.  51.  26.  49.  47.  51.  55.\n",
      "   24.  74.  40.  33.  60.]\n",
      " [ 45.  43.  55.  66.  42.  24.  56.  24.  34.  49.  23.  48.  23.  57.\n",
      "   40.  44.  36.  46.  43.]\n",
      " [ 40.  25.  49.  21.  36.  40.  16.  53.  43.  29.  56.  42.  33.  38.\n",
      "   64.  55.  67.  24.  23.]\n",
      " [ 50.  56.  46.  46.  56.  44.  29.  47.  42.  38.  62.  41.  48.  29.\n",
      "   53.  40.  23.  59.  50.]]\n"
     ]
    },
    {
     "name": "stderr",
     "output_type": "stream",
     "text": [
      "/home/cwseitz/git/DNAFlex/DNAFlex/psf/hess1.py:10: RuntimeWarning: divide by zero encountered in true_divide\n",
      "  hess = np.diag(counts/(lamd**2))\n",
      "/home/cwseitz/git/DNAFlex/DNAFlex/psf/jac2.py:9: RuntimeWarning: divide by zero encountered in true_divide\n",
      "  jac = counts/lamd - 1\n",
      "/home/cwseitz/git/DNAFlex/DNAFlex/psf/hess.py:25: RuntimeWarning: invalid value encountered in matmul\n",
      "  A = J1 @ H1 @ J1.T\n",
      "/home/cwseitz/git/DNAFlex/DNAFlex/psf/hess.py:26: RuntimeWarning: invalid value encountered in multiply\n",
      "  B = np.sum(H2*J2[np.newaxis, np.newaxis, :],axis=-1)\n",
      "/usr/lib/python3/dist-packages/numpy/core/fromnumeric.py:86: RuntimeWarning: invalid value encountered in reduce\n",
      "  return ufunc.reduce(obj, axis, dtype, out, **passkwargs)\n"
     ]
    }
   ],
   "source": [
    "theta = np.array([4.0,4.0,1.0])\n",
    "counts = np.round(adu/gain)\n",
    "print(counts)\n",
    "Hb = hessian_analytical(theta,counts)"
   ]
  },
  {
   "cell_type": "code",
   "execution_count": 8,
   "id": "ecc3acc8",
   "metadata": {},
   "outputs": [
    {
     "name": "stdout",
     "output_type": "stream",
     "text": [
      "[[nan nan nan]\n",
      " [nan nan nan]\n",
      " [nan nan nan]]\n"
     ]
    }
   ],
   "source": [
    "print(Hb)"
   ]
  },
  {
   "cell_type": "code",
   "execution_count": null,
   "id": "29f82d22",
   "metadata": {},
   "outputs": [],
   "source": []
  }
 ],
 "metadata": {
  "kernelspec": {
   "display_name": "Python 3 (ipykernel)",
   "language": "python",
   "name": "python3"
  },
  "language_info": {
   "codemirror_mode": {
    "name": "ipython",
    "version": 3
   },
   "file_extension": ".py",
   "mimetype": "text/x-python",
   "name": "python",
   "nbconvert_exporter": "python",
   "pygments_lexer": "ipython3",
   "version": "3.10.6"
  }
 },
 "nbformat": 4,
 "nbformat_minor": 5
}
