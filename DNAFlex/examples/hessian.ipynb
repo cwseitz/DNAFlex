{
 "cells": [
  {
   "cell_type": "code",
   "execution_count": 6,
   "id": "ae9c8d4a",
   "metadata": {},
   "outputs": [
    {
     "name": "stdout",
     "output_type": "stream",
     "text": [
      "[[ 9824.89748395  6649.63958981 18328.56384507]\n",
      " [ 6649.63958981 10040.92655242 18613.9653781 ]\n",
      " [18328.56384507 18613.9653781  65560.85435222]]\n"
     ]
    }
   ],
   "source": [
    "from DNAFlex.psf import hessian_analytical\n",
    "from scipy.special import erf\n",
    "import numpy as np\n",
    "\n",
    "x0 = 5.0\n",
    "y0 = 5.0\n",
    "sigma = 1.0\n",
    "I0 = 1000.0\n",
    "theta0 = np.array([x0,y0,sigma])\n",
    "L = 10\n",
    "x = np.arange(0,L); y = np.arange(0,L)\n",
    "X, Y = np.meshgrid(x,y)\n",
    "alpha = np.sqrt(2)*sigma\n",
    "_lamdx = erf((X+0.5-x0)/alpha) - erf((X-0.5-x0)/alpha)\n",
    "_lamdy = erf((Y+0.5-y0)/alpha) - erf((Y-0.5-y0)/alpha)\n",
    "_lamd = I0*_lamdx*_lamdy\n",
    "counts = np.random.poisson(lam=_lamd)\n",
    "\n",
    "theta = np.array([4.0,4.0,1.0])\n",
    "#Ha = hessian_autograd(theta)\n",
    "Hb = hessian_analytical(theta,counts)\n",
    "print(Hb)"
   ]
  }
 ],
 "metadata": {
  "kernelspec": {
   "display_name": "Python 3 (ipykernel)",
   "language": "python",
   "name": "python3"
  },
  "language_info": {
   "codemirror_mode": {
    "name": "ipython",
    "version": 3
   },
   "file_extension": ".py",
   "mimetype": "text/x-python",
   "name": "python",
   "nbconvert_exporter": "python",
   "pygments_lexer": "ipython3",
   "version": "3.10.6"
  }
 },
 "nbformat": 4,
 "nbformat_minor": 5
}
